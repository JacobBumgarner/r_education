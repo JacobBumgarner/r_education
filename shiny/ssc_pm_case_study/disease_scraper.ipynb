{
 "cells": [
  {
   "cell_type": "code",
   "execution_count": 15,
   "metadata": {},
   "outputs": [],
   "source": [
    "import csv\n",
    "import pandas as pd"
   ]
  },
  {
   "cell_type": "code",
   "execution_count": 16,
   "metadata": {},
   "outputs": [],
   "source": [
    "raw_frequencies_file = \"data/dcssc_raw_disease_frequencies.txt\"\n",
    "raw_disease_file = \"data/dcssc_raw_diseases.txt\"\n",
    "output_file = \"data/dcssc_symptoms.csv\""
   ]
  },
  {
   "cell_type": "code",
   "execution_count": 17,
   "metadata": {},
   "outputs": [],
   "source": [
    "# First scrape the raw disease info file\n",
    "data = []\n",
    "with open(raw_disease_file, \"r\") as f:\n",
    "    data = [row.strip() for row in f.read().splitlines()]"
   ]
  },
  {
   "cell_type": "code",
   "execution_count": 18,
   "metadata": {},
   "outputs": [],
   "source": [
    "symptoms = []\n",
    "identifiers = []\n",
    "systems = []\n",
    "\n",
    "i = 0\n",
    "while i < len(data):\n",
    "    if \"[\" in data[i]:\n",
    "        current_system = data[i].split(\" [\")[0]\n",
    "        i += 2\n",
    "        continue\n",
    "    else:\n",
    "        # Get the identifier\n",
    "        data_row = data[i].split(\" \")\n",
    "        identifiers.append(data_row.pop(0))\n",
    "        \n",
    "        # Get the symptom\n",
    "        symptom = \" \".join(data_row)\n",
    "        symptoms.append(symptom)\n",
    "        \n",
    "        # Append the affected system\n",
    "        systems.append(current_system)\n",
    "    \n",
    "    i += 1"
   ]
  },
  {
   "cell_type": "code",
   "execution_count": 19,
   "metadata": {},
   "outputs": [],
   "source": [
    "# Then scrape the disease frequency file\n",
    "data = []\n",
    "with open(raw_frequencies_file, \"r\") as f:\n",
    "    data = [row.strip() for row in f.read().splitlines()]"
   ]
  },
  {
   "cell_type": "code",
   "execution_count": 20,
   "metadata": {},
   "outputs": [],
   "source": [
    "frequencies = []\n",
    "\n",
    "for f in data:\n",
    "    if f != \"Frequency\":\n",
    "        frequencies.append(f)"
   ]
  },
  {
   "cell_type": "code",
   "execution_count": 21,
   "metadata": {},
   "outputs": [
    {
     "data": {
      "text/html": [
       "<div>\n",
       "<style scoped>\n",
       "    .dataframe tbody tr th:only-of-type {\n",
       "        vertical-align: middle;\n",
       "    }\n",
       "\n",
       "    .dataframe tbody tr th {\n",
       "        vertical-align: top;\n",
       "    }\n",
       "\n",
       "    .dataframe thead th {\n",
       "        text-align: right;\n",
       "    }\n",
       "</style>\n",
       "<table border=\"1\" class=\"dataframe\">\n",
       "  <thead>\n",
       "    <tr style=\"text-align: right;\">\n",
       "      <th></th>\n",
       "      <th>Identifier</th>\n",
       "      <th>System</th>\n",
       "      <th>Symptom</th>\n",
       "      <th>Frequency</th>\n",
       "    </tr>\n",
       "  </thead>\n",
       "  <tbody>\n",
       "    <tr>\n",
       "      <th>0</th>\n",
       "      <td>HP:0000217</td>\n",
       "      <td>Head and neck</td>\n",
       "      <td>Xerostomia</td>\n",
       "      <td>Frequent</td>\n",
       "    </tr>\n",
       "    <tr>\n",
       "      <th>1</th>\n",
       "      <td>HP:0000670</td>\n",
       "      <td>Head and neck</td>\n",
       "      <td>Carious teeth</td>\n",
       "      <td>Frequent</td>\n",
       "    </tr>\n",
       "    <tr>\n",
       "      <th>2</th>\n",
       "      <td>HP:0001635</td>\n",
       "      <td>Cardiovascular</td>\n",
       "      <td>Congestive heart failure</td>\n",
       "      <td>Occasional</td>\n",
       "    </tr>\n",
       "    <tr>\n",
       "      <th>3</th>\n",
       "      <td>HP:0100735</td>\n",
       "      <td>Cardiovascular</td>\n",
       "      <td>Hypertensive crisis</td>\n",
       "      <td>Occasional</td>\n",
       "    </tr>\n",
       "    <tr>\n",
       "      <th>4</th>\n",
       "      <td>HP:0002092</td>\n",
       "      <td>Respiratory System</td>\n",
       "      <td>Pulmonary arterial hypertension</td>\n",
       "      <td>Occasional</td>\n",
       "    </tr>\n",
       "  </tbody>\n",
       "</table>\n",
       "</div>"
      ],
      "text/plain": [
       "   Identifier              System                          Symptom   Frequency\n",
       "0  HP:0000217       Head and neck                       Xerostomia    Frequent\n",
       "1  HP:0000670       Head and neck                    Carious teeth    Frequent\n",
       "2  HP:0001635      Cardiovascular         Congestive heart failure  Occasional\n",
       "3  HP:0100735      Cardiovascular              Hypertensive crisis  Occasional\n",
       "4  HP:0002092  Respiratory System  Pulmonary arterial hypertension  Occasional"
      ]
     },
     "execution_count": 21,
     "metadata": {},
     "output_type": "execute_result"
    }
   ],
   "source": [
    "# Make the dataframe\n",
    "df = pd.DataFrame(\n",
    "    {\n",
    "        \"Identifier\": identifiers,\n",
    "        \"System\": systems,\n",
    "        \"Symptom\": symptoms,\n",
    "        \"Frequency\": frequencies,\n",
    "    }\n",
    ")\n",
    "df.head()"
   ]
  },
  {
   "cell_type": "code",
   "execution_count": 22,
   "metadata": {},
   "outputs": [],
   "source": [
    "# Save the dataframe\n",
    "df.to_csv(output_file, index=False)"
   ]
  },
  {
   "cell_type": "code",
   "execution_count": null,
   "metadata": {},
   "outputs": [],
   "source": []
  }
 ],
 "metadata": {
  "kernelspec": {
   "display_name": "Python 3.10.2 64-bit ('R_Shiny')",
   "language": "python",
   "name": "python3"
  },
  "language_info": {
   "codemirror_mode": {
    "name": "ipython",
    "version": 3
   },
   "file_extension": ".py",
   "mimetype": "text/x-python",
   "name": "python",
   "nbconvert_exporter": "python",
   "pygments_lexer": "ipython3",
   "version": "3.10.2"
  },
  "orig_nbformat": 4,
  "vscode": {
   "interpreter": {
    "hash": "9a30ab474975175a8e844945e68611c1c585a7663946ac1a83f083bbd1c067d4"
   }
  }
 },
 "nbformat": 4,
 "nbformat_minor": 2
}
